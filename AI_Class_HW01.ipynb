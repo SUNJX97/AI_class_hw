{
 "cells": [
  {
   "cell_type": "code",
   "execution_count": 2,
   "metadata": {},
   "outputs": [
    {
     "name": "stdout",
     "output_type": "stream",
     "text": [
      "['banana', 'orange', 'apple', 'pear', 'pineapple']\n"
     ]
    }
   ],
   "source": [
    "fruits_list = [\"banana\", \"orange\", \"apple\", \"pear\", \"pineapple\"]\n",
    "print(fruits_list)"
   ]
  },
  {
   "cell_type": "code",
   "execution_count": 3,
   "metadata": {},
   "outputs": [
    {
     "name": "stdout",
     "output_type": "stream",
     "text": [
      "I found it!\n"
     ]
    }
   ],
   "source": [
    "for i in range (0,5):\n",
    "    if fruits_list[i] == \"apple\":\n",
    "        print(\"I found it!\")"
   ]
  },
  {
   "cell_type": "code",
   "execution_count": 4,
   "metadata": {},
   "outputs": [
    {
     "name": "stdout",
     "output_type": "stream",
     "text": [
      "['banana', 'orange', 'apple', 'pear', 'pineapple', 'mandarin', 'kiwi']\n"
     ]
    }
   ],
   "source": [
    "fruits_list.append(\"mandarin\")\n",
    "fruits_list.append(\"kiwi\")\n",
    "print(fruits_list)"
   ]
  },
  {
   "cell_type": "code",
   "execution_count": 5,
   "metadata": {},
   "outputs": [
    {
     "name": "stdout",
     "output_type": "stream",
     "text": [
      "banana has 6 letters.\n",
      "orange has 6 letters.\n",
      "apple has 5 letters.\n",
      "pear has 4 letters.\n",
      "pineapple has 9 letters.\n",
      "mandarin has 8 letters.\n",
      "kiwi has 4 letters.\n"
     ]
    }
   ],
   "source": [
    "num_of_letter = []\n",
    "for i in range (0,7):\n",
    "    num_of_letter.append(len(fruits_list[i]))\n",
    "for i in range (0,7):\n",
    "    print(fruits_list[i] + \" has \" + str(num_of_letter[i]) + \" letters.\")"
   ]
  },
  {
   "cell_type": "code",
   "execution_count": 6,
   "metadata": {},
   "outputs": [
    {
     "name": "stdout",
     "output_type": "stream",
     "text": [
      "half_squared([3, 3]) = [4.5, 4.5]\n"
     ]
    }
   ],
   "source": [
    "a = b = 3\n",
    "list = [a, b]\n",
    "def half_squared(list):\n",
    "    c = a*b/2\n",
    "    return [c, c]\n",
    "print(\"half_squared(\" + str(list) +\") = \" + str(half_squared(list)))"
   ]
  },
  {
   "cell_type": "code",
   "execution_count": 7,
   "metadata": {},
   "outputs": [
    {
     "name": "stdout",
     "output_type": "stream",
     "text": [
      "56\n"
     ]
    }
   ],
   "source": [
    "\"the bigger one\"\n",
    "\n",
    "a = int(input(\"input first number: \"))\n",
    "b = int(input(\"input second number: \"))\n",
    "if(a > b):\n",
    "    print(a)\n",
    "else:\n",
    "    print(b)"
   ]
  },
  {
   "cell_type": "code",
   "execution_count": 15,
   "metadata": {},
   "outputs": [
    {
     "name": "stdout",
     "output_type": "stream",
     "text": [
      "Error\n",
      "C\n",
      "B\n"
     ]
    }
   ],
   "source": [
    "a = int(input(\"input the first grade: \"))\n",
    "b = int(input(\"input the second grade: \"))\n",
    "c = int(input(\"input the third grade: \"))\n",
    "\n",
    "student = [a, b, c]\n",
    "for i in range (0,3):\n",
    "    if student[i]>100 or student[i]<0:\n",
    "        print(\"Error\")\n",
    "    elif student[i] >= 90:\n",
    "        print(\"A\")\n",
    "    elif student[i] >= 60:\n",
    "        print(\"B\")\n",
    "    else:\n",
    "        print(\"C\")"
   ]
  },
  {
   "cell_type": "code",
   "execution_count": 4,
   "metadata": {},
   "outputs": [
    {
     "name": "stdout",
     "output_type": "stream",
     "text": [
      "[32, 12, 4]\n"
     ]
    }
   ],
   "source": [
    "def exchange(a,b):\n",
    "    a,b=b,a\n",
    "    return a,b\n",
    "num = [12, 4, 32]\n",
    "for i in range(0,len(num)-1):\n",
    "    for j in range(0,len(num)-i-1):\n",
    "        if num[j] < num[j+1]:\n",
    "            num[j],num[j+1] = exchange(num[j],num[j+1])\n",
    "print(num)"
   ]
  },
  {
   "cell_type": "code",
   "execution_count": 7,
   "metadata": {},
   "outputs": [
    {
     "name": "stdout",
     "output_type": "stream",
     "text": [
      "[1, 2, 3, 4, 5, 6]\n"
     ]
    }
   ],
   "source": [
    "list1 = [1,2,3]\n",
    "list2 = [4,5,6]\n",
    "array = []\n",
    "\n",
    "for i in range(0,len(list1)):\n",
    "    array.append(list1[i])\n",
    "\n",
    "for i in range(0,len(list2)):\n",
    "    array.append(list2[i])\n",
    "    \n",
    "print(array)"
   ]
  },
  {
   "cell_type": "code",
   "execution_count": 1,
   "metadata": {},
   "outputs": [
    {
     "name": "stdout",
     "output_type": "stream",
     "text": [
      "1\n",
      "8\n",
      "17\n",
      "18\n",
      "26\n",
      "27\n"
     ]
    }
   ],
   "source": [
    "for left in range (1,101):\n",
    "    mid = left**3\n",
    "    right=0\n",
    "    char_list = []\n",
    "    for char in str(mid):\n",
    "        char_list.append(char)\n",
    "    for i in char_list:\n",
    "        right = int(i) + right\n",
    "    if right == left:\n",
    "        print(left)"
   ]
  },
  {
   "cell_type": "code",
   "execution_count": 2,
   "metadata": {},
   "outputs": [
    {
     "name": "stdout",
     "output_type": "stream",
     "text": [
      "6 8\n",
      "8 6\n"
     ]
    }
   ],
   "source": [
    "import random\n",
    "x = random.randint(1,10)\n",
    "y = random.randint(1,10)\n",
    "print(x,y)\n",
    "\n",
    "x,y = y,x\n",
    "print(x,y)"
   ]
  },
  {
   "cell_type": "code",
   "execution_count": 6,
   "metadata": {},
   "outputs": [
    {
     "name": "stdout",
     "output_type": "stream",
     "text": [
      "   *\n",
      "  ***\n",
      " *****\n",
      "*******\n",
      " *****\n",
      "  ***\n",
      "   *\n"
     ]
    }
   ],
   "source": [
    "for i in range (-3,4):\n",
    "    print(\" \" * abs(i) + \"*\" * (2*(4-abs(i))-1))"
   ]
  },
  {
   "cell_type": "code",
   "execution_count": 12,
   "metadata": {},
   "outputs": [
    {
     "name": "stdout",
     "output_type": "stream",
     "text": [
      "123456\n",
      "234561\n",
      "345612\n",
      "456123\n",
      "561234\n",
      "612345\n"
     ]
    }
   ],
   "source": [
    "for i in range (1,7):\n",
    "    for j in range (i,7):\n",
    "        print(j,end=\"\"),\n",
    "    for k in range (1,i):\n",
    "        print(k,end=\"\")\n",
    "    print()"
   ]
  },
  {
   "cell_type": "code",
   "execution_count": 18,
   "metadata": {},
   "outputs": [
    {
     "name": "stdout",
     "output_type": "stream",
     "text": [
      "Charles Martina Michael Florence Eli "
     ]
    }
   ],
   "source": [
    "players = ['charles','martina','michael','florence','eli']\n",
    "for i in range (0,5):\n",
    "    name = players[i]\n",
    "    print(name.title(),end=\" \")"
   ]
  },
  {
   "cell_type": "code",
   "execution_count": null,
   "metadata": {},
   "outputs": [],
   "source": []
  }
 ],
 "metadata": {
  "kernelspec": {
   "display_name": "Python 3",
   "language": "python",
   "name": "python3"
  },
  "language_info": {
   "codemirror_mode": {
    "name": "ipython",
    "version": 3
   },
   "file_extension": ".py",
   "mimetype": "text/x-python",
   "name": "python",
   "nbconvert_exporter": "python",
   "pygments_lexer": "ipython3",
   "version": "3.6.5"
  }
 },
 "nbformat": 4,
 "nbformat_minor": 2
}
